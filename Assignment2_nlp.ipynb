{
 "cells": [
  {
   "cell_type": "markdown",
   "metadata": {},
   "source": [
    "# Text Similarity\n",
    "\n",
    "Fait par : EL MAHFOUD RADOUANE\n",
    "\n",
    "The first thing is to compute sentence embeddings, then compare them to each other. \n",
    "\n",
    "* After my embeddings I will use the cosine similarity."
   ]
  },
  {
   "cell_type": "markdown",
   "metadata": {},
   "source": [
    "###  Cosine Similarity with TF-IDF (Method 1 to do embeddings)"
   ]
  },
  {
   "cell_type": "markdown",
   "metadata": {},
   "source": [
    "This method uses the TfidfVectorizer from Scikit-Learn to convert text into TF-IDF vectors and then calculates the cosine similarity."
   ]
  },
  {
   "cell_type": "code",
   "execution_count": 21,
   "metadata": {},
   "outputs": [
    {
     "name": "stdout",
     "output_type": "stream",
     "text": [
      "Cosine Similarity: 0.38087260847594373\n"
     ]
    }
   ],
   "source": [
    "from sklearn.feature_extraction.text import TfidfVectorizer\n",
    "from sklearn.metrics.pairwise import cosine_similarity\n",
    "\n",
    "# Sample Sentences\n",
    "text1 = \"The new movie is awesome\"\n",
    "text2 = \"The new film is so great\"\n",
    "\n",
    "# Convert texts to TF-IDF vectors\n",
    "vectorizer = TfidfVectorizer()\n",
    "tfidf_matrix = vectorizer.fit_transform([text1, text2])\n",
    "\n",
    "# Calculate Cosine Similarity\n",
    "cosine_sim = cosine_similarity(tfidf_matrix[0:1], tfidf_matrix[1:2])\n",
    "print(f\"Cosine Similarity: {cosine_sim[0][0]}\")"
   ]
  },
  {
   "cell_type": "markdown",
   "metadata": {},
   "source": [
    "### Semantic Similarity Using Sentence Transformers (Method 2 to do embeddings)"
   ]
  },
  {
   "cell_type": "code",
   "execution_count": 12,
   "metadata": {},
   "outputs": [],
   "source": [
    "from sentence_transformers import SentenceTransformer\n",
    "model = SentenceTransformer('all-MiniLM-L6-v2')"
   ]
  },
  {
   "cell_type": "code",
   "execution_count": 23,
   "metadata": {},
   "outputs": [
    {
     "name": "stdout",
     "output_type": "stream",
     "text": [
      "Cosine Similarity: 0.8692852854728699\n"
     ]
    }
   ],
   "source": [
    "from sentence_transformers import SentenceTransformer\n",
    "from sklearn.metrics.pairwise import cosine_similarity\n",
    "\n",
    "# Load a pre-trained model\n",
    "model = SentenceTransformer('all-MiniLM-L6-v2')\n",
    "\n",
    "# Sample texts\n",
    "text1 = \"The new movie is awesome\"\n",
    "text2 = \"The new film is so great\"\n",
    "\n",
    "# Generate embeddings\n",
    "embeddings = model.encode([text1, text2])\n",
    "\n",
    "# Compute cosine similarity\n",
    "cosine_sim = cosine_similarity([embeddings[0]], [embeddings[1]])\n",
    "print(f\"Cosine Similarity: {cosine_sim[0][0]}\")"
   ]
  },
  {
   "cell_type": "markdown",
   "metadata": {},
   "source": [
    "### Using BERT for Semantic Similarity ((Method 3 to do embeddings))"
   ]
  },
  {
   "cell_type": "markdown",
   "metadata": {},
   "source": [
    "For this, we install the transformers library by Hugging Face."
   ]
  },
  {
   "cell_type": "code",
   "execution_count": 24,
   "metadata": {},
   "outputs": [
    {
     "data": {
      "application/json": {
       "ascii": false,
       "bar_format": null,
       "colour": null,
       "elapsed": 0.07230353355407715,
       "initial": 0,
       "n": 0,
       "ncols": null,
       "nrows": null,
       "postfix": null,
       "prefix": "Downloading vocab.txt",
       "rate": null,
       "total": 231508,
       "unit": "B",
       "unit_divisor": 1000,
       "unit_scale": true
      },
      "application/vnd.jupyter.widget-view+json": {
       "model_id": "d865f1d39d524f3ab4aa5a5a1eef03f4",
       "version_major": 2,
       "version_minor": 0
      },
      "text/plain": [
       "Downloading vocab.txt:   0%|          | 0.00/232k [00:00<?, ?B/s]"
      ]
     },
     "metadata": {},
     "output_type": "display_data"
    },
    {
     "name": "stderr",
     "output_type": "stream",
     "text": [
      "C:\\Users\\user\\AppData\\Roaming\\Python\\Python310\\site-packages\\huggingface_hub\\file_download.py:133: UserWarning: `huggingface_hub` cache-system uses symlinks by default to efficiently store duplicated files but your machine does not support them in C:\\Users\\user\\.cache\\huggingface\\hub. Caching files will still work but in a degraded version that might require more space on your disk. This warning can be disabled by setting the `HF_HUB_DISABLE_SYMLINKS_WARNING` environment variable. For more details, see https://huggingface.co/docs/huggingface_hub/how-to-cache#limitations.\n",
      "To support symlinks on Windows, you either need to activate Developer Mode or to run Python as an administrator. In order to see activate developer mode, see this article: https://docs.microsoft.com/en-us/windows/apps/get-started/enable-your-device-for-development\n",
      "  warnings.warn(message)\n"
     ]
    },
    {
     "data": {
      "application/json": {
       "ascii": false,
       "bar_format": null,
       "colour": null,
       "elapsed": 0.048154592514038086,
       "initial": 0,
       "n": 0,
       "ncols": null,
       "nrows": null,
       "postfix": null,
       "prefix": "Downloading tokenizer_config.json",
       "rate": null,
       "total": 28,
       "unit": "B",
       "unit_divisor": 1000,
       "unit_scale": true
      },
      "application/vnd.jupyter.widget-view+json": {
       "model_id": "3064a415cb154765971c4896de9568f6",
       "version_major": 2,
       "version_minor": 0
      },
      "text/plain": [
       "Downloading tokenizer_config.json:   0%|          | 0.00/28.0 [00:00<?, ?B/s]"
      ]
     },
     "metadata": {},
     "output_type": "display_data"
    },
    {
     "data": {
      "application/json": {
       "ascii": false,
       "bar_format": null,
       "colour": null,
       "elapsed": 0.05229353904724121,
       "initial": 0,
       "n": 0,
       "ncols": null,
       "nrows": null,
       "postfix": null,
       "prefix": "Downloading config.json",
       "rate": null,
       "total": 570,
       "unit": "B",
       "unit_divisor": 1000,
       "unit_scale": true
      },
      "application/vnd.jupyter.widget-view+json": {
       "model_id": "281870b576bf47fb8aaae23f878ca258",
       "version_major": 2,
       "version_minor": 0
      },
      "text/plain": [
       "Downloading config.json:   0%|          | 0.00/570 [00:00<?, ?B/s]"
      ]
     },
     "metadata": {},
     "output_type": "display_data"
    },
    {
     "data": {
      "application/json": {
       "ascii": false,
       "bar_format": null,
       "colour": null,
       "elapsed": 0.06600284576416016,
       "initial": 0,
       "n": 0,
       "ncols": null,
       "nrows": null,
       "postfix": null,
       "prefix": "Downloading pytorch_model.bin",
       "rate": null,
       "total": 440473133,
       "unit": "B",
       "unit_divisor": 1000,
       "unit_scale": true
      },
      "application/vnd.jupyter.widget-view+json": {
       "model_id": "ba9d79788b8048dc9fc8dcb503d481e7",
       "version_major": 2,
       "version_minor": 0
      },
      "text/plain": [
       "Downloading pytorch_model.bin:   0%|          | 0.00/440M [00:00<?, ?B/s]"
      ]
     },
     "metadata": {},
     "output_type": "display_data"
    },
    {
     "name": "stderr",
     "output_type": "stream",
     "text": [
      "Some weights of the model checkpoint at bert-base-uncased were not used when initializing BertModel: ['cls.seq_relationship.bias', 'cls.predictions.transform.dense.weight', 'cls.predictions.transform.dense.bias', 'cls.predictions.bias', 'cls.seq_relationship.weight', 'cls.predictions.decoder.weight', 'cls.predictions.transform.LayerNorm.weight', 'cls.predictions.transform.LayerNorm.bias']\n",
      "- This IS expected if you are initializing BertModel from the checkpoint of a model trained on another task or with another architecture (e.g. initializing a BertForSequenceClassification model from a BertForPreTraining model).\n",
      "- This IS NOT expected if you are initializing BertModel from the checkpoint of a model that you expect to be exactly identical (initializing a BertForSequenceClassification model from a BertForSequenceClassification model).\n"
     ]
    },
    {
     "name": "stdout",
     "output_type": "stream",
     "text": [
      "Cosine Similarity: 0.8484784364700317\n"
     ]
    }
   ],
   "source": [
    "from transformers import BertTokenizer, BertModel\n",
    "import torch\n",
    "\n",
    "# Load pre-trained model tokenizer and model\n",
    "tokenizer = BertTokenizer.from_pretrained('bert-base-uncased')\n",
    "model = BertModel.from_pretrained('bert-base-uncased')\n",
    "\n",
    "# Sample texts\n",
    "text1 = \"I love reading books.\"\n",
    "text2 = \"I enjoy books about programming.\"\n",
    "\n",
    "# Encode text\n",
    "encoded_input1 = tokenizer(text1, return_tensors='pt')\n",
    "encoded_input2 = tokenizer(text2, return_tensors='pt')\n",
    "\n",
    "# Compute BERT embeddings\n",
    "with torch.no_grad():\n",
    "    output1 = model(**encoded_input1)\n",
    "    output2 = model(**encoded_input2)\n",
    "\n",
    "# Mean pooling\n",
    "embeddings1 = torch.mean(output1.last_hidden_state, dim=1)\n",
    "embeddings2 = torch.mean(output2.last_hidden_state, dim=1)\n",
    "\n",
    "# Calculate cosine similarity\n",
    "cosine_sim = cosine_similarity(embeddings1, embeddings2)\n",
    "print(f\"Cosine Similarity: {cosine_sim[0][0]}\")"
   ]
  },
  {
   "cell_type": "markdown",
   "metadata": {},
   "source": [
    "When dealing with a dataset of sentences and aiming to capture semantic similarities, transformer-based models like BERT or sentence transformers are generally the best option. They are specifically designed to understand the context , making them superior for capturing semantic meanings compared to traditional methods like TF-IDF or basic word embeddings."
   ]
  },
  {
   "cell_type": "markdown",
   "metadata": {},
   "source": [
    "There have been a lot of approaches for Semantic Similarity. The most straightforward and effective method now is to use a powerful model (e.g. transformer) to encode sentences to get their embeddings and then use a similarity metric (e.g. cosine similarity) to compute their similarity score."
   ]
  },
  {
   "cell_type": "markdown",
   "metadata": {},
   "source": [
    "### Our Use case "
   ]
  },
  {
   "cell_type": "code",
   "execution_count": 25,
   "metadata": {},
   "outputs": [],
   "source": [
    "import pandas as pd"
   ]
  },
  {
   "cell_type": "code",
   "execution_count": 28,
   "metadata": {},
   "outputs": [],
   "source": [
    "with open('sentences.csv') as f:\n",
    "    lines = f.readlines()\n",
    "lines=lines[1:]"
   ]
  },
  {
   "cell_type": "code",
   "execution_count": 29,
   "metadata": {},
   "outputs": [],
   "source": [
    "sentences_df=pd.DataFrame({'sentences':lines})"
   ]
  },
  {
   "cell_type": "code",
   "execution_count": 30,
   "metadata": {},
   "outputs": [
    {
     "data": {
      "text/html": [
       "<div>\n",
       "<style scoped>\n",
       "    .dataframe tbody tr th:only-of-type {\n",
       "        vertical-align: middle;\n",
       "    }\n",
       "\n",
       "    .dataframe tbody tr th {\n",
       "        vertical-align: top;\n",
       "    }\n",
       "\n",
       "    .dataframe thead th {\n",
       "        text-align: right;\n",
       "    }\n",
       "</style>\n",
       "<table border=\"1\" class=\"dataframe\">\n",
       "  <thead>\n",
       "    <tr style=\"text-align: right;\">\n",
       "      <th></th>\n",
       "      <th>sentences</th>\n",
       "    </tr>\n",
       "  </thead>\n",
       "  <tbody>\n",
       "    <tr>\n",
       "      <th>0</th>\n",
       "      <td>A girl is styling her hair.\\n</td>\n",
       "    </tr>\n",
       "    <tr>\n",
       "      <th>1</th>\n",
       "      <td>A group of men play soccer on the beach.\\n</td>\n",
       "    </tr>\n",
       "    <tr>\n",
       "      <th>2</th>\n",
       "      <td>One woman is measuring another woman's ankle.\\n</td>\n",
       "    </tr>\n",
       "    <tr>\n",
       "      <th>3</th>\n",
       "      <td>A man is cutting up a cucumber.\\n</td>\n",
       "    </tr>\n",
       "    <tr>\n",
       "      <th>4</th>\n",
       "      <td>A man is playing a harp.\\n</td>\n",
       "    </tr>\n",
       "  </tbody>\n",
       "</table>\n",
       "</div>"
      ],
      "text/plain": [
       "                                         sentences\n",
       "0                    A girl is styling her hair.\\n\n",
       "1       A group of men play soccer on the beach.\\n\n",
       "2  One woman is measuring another woman's ankle.\\n\n",
       "3                A man is cutting up a cucumber.\\n\n",
       "4                       A man is playing a harp.\\n"
      ]
     },
     "execution_count": 30,
     "metadata": {},
     "output_type": "execute_result"
    }
   ],
   "source": [
    "sentences_df.head()"
   ]
  },
  {
   "cell_type": "markdown",
   "metadata": {},
   "source": [
    "Handling a dataset with sentences in multiple languages adds complexity to the preprocessing and semantic similarity analysis. Each language has its own set of stopwords, punctuation rules, and semantic nuances."
   ]
  },
  {
   "cell_type": "markdown",
   "metadata": {},
   "source": [
    "#### Language Detection\n",
    "First, we identify the language of each sentence. This can be done using libraries like langdetect."
   ]
  },
  {
   "cell_type": "code",
   "execution_count": 33,
   "metadata": {},
   "outputs": [],
   "source": [
    "from langdetect import detect"
   ]
  },
  {
   "cell_type": "code",
   "execution_count": 39,
   "metadata": {},
   "outputs": [],
   "source": [
    "# Detect language and preprocess\n",
    "def detect_language(sentence):\n",
    "    try:\n",
    "        lang = detect(sentence)\n",
    "    except:\n",
    "        lang = \"unknown\"\n",
    "    return lang"
   ]
  },
  {
   "cell_type": "markdown",
   "metadata": {},
   "source": [
    "### Preprocess sentences"
   ]
  },
  {
   "cell_type": "code",
   "execution_count": 40,
   "metadata": {},
   "outputs": [],
   "source": [
    "import string\n",
    "# Apply the preprocessing function to your dataset\n",
    "def preprocess_sentence(sentence):\n",
    "    sentence = sentence.lower()\n",
    "    # remove all punctuation from the sentence string\n",
    "    sentence = sentence.translate(str.maketrans('', '', string.punctuation))\n",
    "    return sentence\n",
    "\n",
    "sentences_df['processed_sentences'] = sentences_df['sentences'].apply(preprocess_sentence)"
   ]
  },
  {
   "cell_type": "code",
   "execution_count": 41,
   "metadata": {},
   "outputs": [],
   "source": [
    "sentences_df['lang'] = sentences_df['sentences'].apply(detect_language)"
   ]
  },
  {
   "cell_type": "code",
   "execution_count": 46,
   "metadata": {},
   "outputs": [
    {
     "data": {
      "text/plain": [
       "array(['en', 'tl', 'pt', 'nl', 'id', 'ca', 'af', 'fr', 'it', 'no', 'cs',\n",
       "       'et', 'de', 'es', 'sv', 'da', 'ro', 'so', 'cy', 'fi', 'sl'],\n",
       "      dtype=object)"
      ]
     },
     "execution_count": 46,
     "metadata": {},
     "output_type": "execute_result"
    }
   ],
   "source": [
    "sentences_df['lang'].unique()"
   ]
  },
  {
   "cell_type": "code",
   "execution_count": 47,
   "metadata": {},
   "outputs": [
    {
     "data": {
      "text/plain": [
       "21"
      ]
     },
     "execution_count": 47,
     "metadata": {},
     "output_type": "execute_result"
    }
   ],
   "source": [
    "len(sentences_df['lang'].unique())"
   ]
  },
  {
   "cell_type": "code",
   "execution_count": 59,
   "metadata": {},
   "outputs": [
    {
     "data": {
      "text/plain": [
       "it    2711\n",
       "fr    2698\n",
       "es    2688\n",
       "en    2616\n",
       "tl      86\n",
       "pt      56\n",
       "ca      55\n",
       "af      30\n",
       "nl      20\n",
       "id      17\n",
       "de      10\n",
       "sv      10\n",
       "no       7\n",
       "da       6\n",
       "ro       6\n",
       "sl       5\n",
       "fi       4\n",
       "et       3\n",
       "so       2\n",
       "cy       1\n",
       "cs       1\n",
       "Name: lang, dtype: int64"
      ]
     },
     "execution_count": 59,
     "metadata": {},
     "output_type": "execute_result"
    }
   ],
   "source": [
    "sentences_df['lang'].value_counts()"
   ]
  },
  {
   "cell_type": "code",
   "execution_count": 57,
   "metadata": {},
   "outputs": [
    {
     "data": {
      "text/plain": [
       "<BarContainer object of 21 artists>"
      ]
     },
     "execution_count": 57,
     "metadata": {},
     "output_type": "execute_result"
    },
    {
     "data": {
      "image/png": "[encoded data removed]",
      "text/plain": [
       "<Figure size 432x288 with 1 Axes>"
      ]
     },
     "metadata": {
      "needs_background": "light"
     },
     "output_type": "display_data"
    }
   ],
   "source": [
    "import matplotlib.pyplot as plt\n",
    "plt.bar(sentences_df['lang'].value_counts().index,sentences_df['lang'].value_counts().values)"
   ]
  },
  {
   "cell_type": "code",
   "execution_count": 60,
   "metadata": {},
   "outputs": [],
   "source": [
    "# Load a multilingual model\n",
    "model = SentenceTransformer('distiluse-base-multilingual-cased-v2')"
   ]
  },
  {
   "cell_type": "code",
   "execution_count": 62,
   "metadata": {},
   "outputs": [
    {
     "data": {
      "application/json": {
       "ascii": false,
       "bar_format": null,
       "colour": null,
       "elapsed": 0.05536532402038574,
       "initial": 0,
       "n": 0,
       "ncols": null,
       "nrows": null,
       "postfix": null,
       "prefix": "Batches",
       "rate": null,
       "total": 345,
       "unit": "it",
       "unit_divisor": 1000,
       "unit_scale": false
      },
      "application/vnd.jupyter.widget-view+json": {
       "model_id": "fffbe1bdb9784f719e8255f06dc2f634",
       "version_major": 2,
       "version_minor": 0
      },
      "text/plain": [
       "Batches:   0%|          | 0/345 [00:00<?, ?it/s]"
      ]
     },
     "metadata": {},
     "output_type": "display_data"
    }
   ],
   "source": [
    "'''# Convert sentences to embeddings\n",
    "embeddings = model.encode(sentences_df['processed_sentences'].tolist(), show_progress_bar=True)'''"
   ]
  },
  {
   "attachments": {
    "image.png": {
     "image/png": "[encoded data removed]"
    }
   },
   "cell_type": "markdown",
   "metadata": {},
   "source": [
    "![image.png](attachment:image.png)"
   ]
  },
  {
   "cell_type": "code",
   "execution_count": 65,
   "metadata": {},
   "outputs": [],
   "source": [
    "import pickle\n",
    "# Save the embeddings to a file\n",
    "embeddings_file = 'embeddings.pkl'\n",
    "with open(embeddings_file, 'wb') as file:\n",
    "    pickle.dump(embeddings, file)"
   ]
  },
  {
   "cell_type": "code",
   "execution_count": 66,
   "metadata": {},
   "outputs": [],
   "source": [
    "# Load the embeddings from the file\n",
    "embeddings_file = 'embeddings.pkl'\n",
    "with open(embeddings_file, 'rb') as file:\n",
    "    loaded_embeddings = pickle.load(file)"
   ]
  },
  {
   "cell_type": "code",
   "execution_count": 63,
   "metadata": {},
   "outputs": [
    {
     "name": "stdout",
     "output_type": "stream",
     "text": [
      "Similarity between first and second sentences: -0.015058732591569424\n"
     ]
    }
   ],
   "source": [
    "# Compute pairwise cosine similarity\n",
    "similarity_matrix = cosine_similarity(embeddings)\n",
    "\n",
    "# Example: Print similarity between the first and second sentences\n",
    "print(f\"Similarity between first and second sentences: {similarity_matrix[0][1]}\")"
   ]
  },
  {
   "cell_type": "code",
   "execution_count": 102,
   "metadata": {},
   "outputs": [
    {
     "data": {
      "text/plain": [
       "(11032, 512)"
      ]
     },
     "execution_count": 102,
     "metadata": {},
     "output_type": "execute_result"
    }
   ],
   "source": [
    "embeddings.shape"
   ]
  },
  {
   "cell_type": "code",
   "execution_count": 76,
   "metadata": {},
   "outputs": [],
   "source": [
    "sentences_df.to_csv('sentences_df.csv')"
   ]
  },
  {
   "cell_type": "markdown",
   "metadata": {},
   "source": [
    "#### Question 1 : The n most similar sentences in same language."
   ]
  },
  {
   "cell_type": "code",
   "execution_count": 116,
   "metadata": {},
   "outputs": [],
   "source": [
    "import numpy as np\n",
    "from sklearn.metrics.pairwise import cosine_similarity\n",
    "\n",
    "\n",
    "def similar_sentences_same_language(lang,n,index):\n",
    "    # Filter the dataset to include only sentences in the language choosen\n",
    "    lang_sentences_df = sentences_df[sentences_df['lang'] == lang]\n",
    "\n",
    "    # Convert English sentences to embeddings\n",
    "    lang_embeddings = model.encode(lang_sentences_df['processed_sentences'].tolist(), show_progress_bar=True)\n",
    "\n",
    "    # Calculate pairwise cosine similarity for sentences\n",
    "    lang_similarity_matrix = cosine_similarity(lang_embeddings)\n",
    "\n",
    "    # Find the index of the sentence you want to compare (e.g., the first sentence)\n",
    "    target_sentence_index = index  # Change this to the desired sentence index\n",
    "\n",
    "    # Get the similarity scores for the target sentence\n",
    "    similarity_scores = lang_similarity_matrix[target_sentence_index]\n",
    "\n",
    "    # Sort sentences by similarity scores in descending order\n",
    "    sorted_indices = np.argsort(similarity_scores)[::-1]\n",
    "\n",
    "    # Select the top 5 most similar sentences (excluding the target sentence)\n",
    "    n = n\n",
    "    top_n_similar_indices = [i for i in sorted_indices if i != target_sentence_index][:n]\n",
    "\n",
    "    # Get the actual sentences corresponding to the top indices\n",
    "    top_n_similar_sentences = english_sentences_df['sentences'].iloc[top_n_similar_indices].tolist()\n",
    "\n",
    "    return top_n_similar_sentences"
   ]
  },
  {
   "cell_type": "code",
   "execution_count": 110,
   "metadata": {},
   "outputs": [
    {
     "data": {
      "text/plain": [
       "['A group of boys are playing soccer on the beach.\\n',\n",
       " 'Men are playing soccer.\\n',\n",
       " 'Two men are playing football.\\n',\n",
       " 'A man is kicking a soccer ball.\\n',\n",
       " 'A man is playing a football.\\n']"
      ]
     },
     "execution_count": 110,
     "metadata": {},
     "output_type": "execute_result"
    }
   ],
   "source": [
    "# Now, top_n_similar_sentences contains the top 5 most similar English sentences to the target sentence\n",
    "top_n_similar_sentences"
   ]
  },
  {
   "cell_type": "code",
   "execution_count": 118,
   "metadata": {},
   "outputs": [
    {
     "data": {
      "text/html": [
       "<div>\n",
       "<style scoped>\n",
       "    .dataframe tbody tr th:only-of-type {\n",
       "        vertical-align: middle;\n",
       "    }\n",
       "\n",
       "    .dataframe tbody tr th {\n",
       "        vertical-align: top;\n",
       "    }\n",
       "\n",
       "    .dataframe thead th {\n",
       "        text-align: right;\n",
       "    }\n",
       "</style>\n",
       "<table border=\"1\" class=\"dataframe\">\n",
       "  <thead>\n",
       "    <tr style=\"text-align: right;\">\n",
       "      <th></th>\n",
       "      <th>sentences</th>\n",
       "      <th>processed_sentences</th>\n",
       "      <th>lang</th>\n",
       "    </tr>\n",
       "  </thead>\n",
       "  <tbody>\n",
       "    <tr>\n",
       "      <th>0</th>\n",
       "      <td>A girl is styling her hair.\\n</td>\n",
       "      <td>a girl is styling her hair\\n</td>\n",
       "      <td>en</td>\n",
       "    </tr>\n",
       "    <tr>\n",
       "      <th>1</th>\n",
       "      <td>A group of men play soccer on the beach.\\n</td>\n",
       "      <td>a group of men play soccer on the beach\\n</td>\n",
       "      <td>en</td>\n",
       "    </tr>\n",
       "    <tr>\n",
       "      <th>2</th>\n",
       "      <td>One woman is measuring another woman's ankle.\\n</td>\n",
       "      <td>one woman is measuring another womans ankle\\n</td>\n",
       "      <td>en</td>\n",
       "    </tr>\n",
       "    <tr>\n",
       "      <th>3</th>\n",
       "      <td>A man is cutting up a cucumber.\\n</td>\n",
       "      <td>a man is cutting up a cucumber\\n</td>\n",
       "      <td>en</td>\n",
       "    </tr>\n",
       "    <tr>\n",
       "      <th>4</th>\n",
       "      <td>A man is playing a harp.\\n</td>\n",
       "      <td>a man is playing a harp\\n</td>\n",
       "      <td>tl</td>\n",
       "    </tr>\n",
       "  </tbody>\n",
       "</table>\n",
       "</div>"
      ],
      "text/plain": [
       "                                         sentences  \\\n",
       "0                    A girl is styling her hair.\\n   \n",
       "1       A group of men play soccer on the beach.\\n   \n",
       "2  One woman is measuring another woman's ankle.\\n   \n",
       "3                A man is cutting up a cucumber.\\n   \n",
       "4                       A man is playing a harp.\\n   \n",
       "\n",
       "                             processed_sentences lang  \n",
       "0                   a girl is styling her hair\\n   en  \n",
       "1      a group of men play soccer on the beach\\n   en  \n",
       "2  one woman is measuring another womans ankle\\n   en  \n",
       "3               a man is cutting up a cucumber\\n   en  \n",
       "4                      a man is playing a harp\\n   tl  "
      ]
     },
     "execution_count": 118,
     "metadata": {},
     "output_type": "execute_result"
    }
   ],
   "source": [
    "sentences_df.head()"
   ]
  },
  {
   "cell_type": "code",
   "execution_count": 117,
   "metadata": {},
   "outputs": [
    {
     "data": {
      "application/json": {
       "ascii": false,
       "bar_format": null,
       "colour": null,
       "elapsed": 0.05715370178222656,
       "initial": 0,
       "n": 0,
       "ncols": null,
       "nrows": null,
       "postfix": null,
       "prefix": "Batches",
       "rate": null,
       "total": 82,
       "unit": "it",
       "unit_divisor": 1000,
       "unit_scale": false
      },
      "application/vnd.jupyter.widget-view+json": {
       "model_id": "693b9ed61c174f589ece5041ffaa4c19",
       "version_major": 2,
       "version_minor": 0
      },
      "text/plain": [
       "Batches:   0%|          | 0/82 [00:00<?, ?it/s]"
      ]
     },
     "metadata": {},
     "output_type": "display_data"
    },
    {
     "data": {
      "text/plain": [
       "['A group of boys are playing soccer on the beach.\\n',\n",
       " 'Men are playing soccer.\\n',\n",
       " 'Two men are playing football.\\n',\n",
       " 'A man is kicking a soccer ball.\\n',\n",
       " 'A man is playing a football.\\n']"
      ]
     },
     "execution_count": 117,
     "metadata": {},
     "output_type": "execute_result"
    }
   ],
   "source": [
    "similar_sentences_same_language('en',5,1)"
   ]
  },
  {
   "cell_type": "markdown",
   "metadata": {},
   "source": [
    "#### Question 2 : The n most similar sentences to the input sentence among entire list of sentences, independently from language."
   ]
  },
  {
   "cell_type": "code",
   "execution_count": 128,
   "metadata": {},
   "outputs": [],
   "source": [
    "import numpy as np\n",
    "from sklearn.metrics.pairwise import cosine_similarity\n",
    "\n",
    "def similar_sentences(n,index):\n",
    "    # Find the index of the sentence you want to compare (e.g., the first sentence)\n",
    "    target_sentence_index = index  \n",
    "\n",
    "    # Get the similarity scores for the target sentence\n",
    "    similarity_scores = similarity_matrix[target_sentence_index]\n",
    "\n",
    "    # Sort sentences by similarity scores in descending order\n",
    "    sorted_indices = np.argsort(similarity_scores)[::-1]\n",
    "\n",
    "    # Select the top 5 most similar sentences (excluding the target sentence itself)\n",
    "    n = n\n",
    "    top_n_similar_indices = [i for i in sorted_indices if i != target_sentence_index][:n]\n",
    "\n",
    "    # Get the actual sentences corresponding to the top indices\n",
    "    top_n_similar_sentences = sentences_df['sentences'].iloc[top_n_similar_indices].tolist()\n",
    "\n",
    "    return top_n_similar_sentences"
   ]
  },
  {
   "cell_type": "code",
   "execution_count": 129,
   "metadata": {},
   "outputs": [
    {
     "data": {
      "text/plain": [
       "['The woman is styling her hair.\\n',\n",
       " 'Une fille se coiffe.\\n',\n",
       " 'Una ragazza si acconcia i capelli.\\n',\n",
       " 'Une fille se brosse les cheveux.\\n',\n",
       " 'Una chica se estأ، arreglando el pelo.\\n']"
      ]
     },
     "execution_count": 129,
     "metadata": {},
     "output_type": "execute_result"
    }
   ],
   "source": [
    "# here the sentence is = \"a girl is styling her hair\"\n",
    "similar_sentences(5,0)"
   ]
  },
  {
   "cell_type": "markdown",
   "metadata": {},
   "source": [
    "#### Question 3 : Extra: return percentage of similarity and execution time. "
   ]
  },
  {
   "cell_type": "code",
   "execution_count": 139,
   "metadata": {},
   "outputs": [],
   "source": [
    "import time\n",
    "\n",
    "def similar_sentences(n, index):\n",
    "    # Record the start time\n",
    "    start_time = time.time()\n",
    "\n",
    "    # Find the index of the sentence you want to compare (e.g., the first sentence)\n",
    "    target_sentence_index = index\n",
    "\n",
    "    # Get the similarity scores for the target sentence\n",
    "    similarity_scores = similarity_matrix[target_sentence_index]\n",
    "\n",
    "    # Sort sentences by similarity scores in descending order\n",
    "    sorted_indices = np.argsort(similarity_scores)[::-1]\n",
    "\n",
    "    # Select the top n most similar sentences (excluding the target sentence itself)\n",
    "    n = n\n",
    "    top_n_similar_indices = [i for i in sorted_indices if i != target_sentence_index][:n]\n",
    "\n",
    "    # Get the actual sentences corresponding to the top indices\n",
    "    top_n_similar_sentences = sentences_df['sentences'].iloc[top_n_similar_indices].tolist()\n",
    "\n",
    "    # Calculate the percentage of similarity for the top sentence\n",
    "    similarity_percentage=[]\n",
    "    for i in range(n):\n",
    "        similarity_percentage.append((similarity_scores[top_n_similar_indices[i]] * 100).round(2))\n",
    "\n",
    "    # Calculate the execution time\n",
    "    execution_time = time.time() - start_time\n",
    "\n",
    "    return top_n_similar_sentences, similarity_percentage, execution_time"
   ]
  },
  {
   "cell_type": "code",
   "execution_count": 147,
   "metadata": {},
   "outputs": [],
   "source": [
    "# here the sentence is = \"a girl is styling her hair\"\n",
    "result, similarity_percentage, execution_time = similar_sentences(5, 0)"
   ]
  },
  {
   "cell_type": "code",
   "execution_count": 149,
   "metadata": {},
   "outputs": [
    {
     "data": {
      "text/plain": [
       "['The woman is styling her hair.\\n',\n",
       " 'Une fille se coiffe.\\n',\n",
       " 'Una ragazza si acconcia i capelli.\\n',\n",
       " 'Une fille se brosse les cheveux.\\n',\n",
       " 'Una chica se estأ، arreglando el pelo.\\n']"
      ]
     },
     "execution_count": 149,
     "metadata": {},
     "output_type": "execute_result"
    }
   ],
   "source": [
    "result"
   ]
  },
  {
   "cell_type": "code",
   "execution_count": 148,
   "metadata": {},
   "outputs": [
    {
     "data": {
      "text/plain": [
       "[89.39, 88.07, 87.47, 87.42, 82.06]"
      ]
     },
     "execution_count": 148,
     "metadata": {},
     "output_type": "execute_result"
    }
   ],
   "source": [
    "similarity_percentage"
   ]
  },
  {
   "cell_type": "code",
   "execution_count": 150,
   "metadata": {},
   "outputs": [
    {
     "data": {
      "text/plain": [
       "0.003999471664428711"
      ]
     },
     "execution_count": 150,
     "metadata": {},
     "output_type": "execute_result"
    }
   ],
   "source": [
    "execution_time"
   ]
  },
  {
   "cell_type": "markdown",
   "metadata": {},
   "source": [
    "\n",
    "\n",
    "        END"
   ]
  }
 ],
 "metadata": {
  "kernelspec": {
   "display_name": "Python 3",
   "language": "python",
   "name": "python3"
  },
  "language_info": {
   "codemirror_mode": {
    "name": "ipython",
    "version": 3
   },
   "file_extension": ".py",
   "mimetype": "text/x-python",
   "name": "python",
   "nbconvert_exporter": "python",
   "pygments_lexer": "ipython3",
   "version": "3.10.2"
  }
 },
 "nbformat": 4,
 "nbformat_minor": 2
}
